{
 "cells": [
  {
   "cell_type": "markdown",
   "metadata": {},
   "source": [
    "# Kata 6\n",
    "\n",
    "## Ejercicio 1"
   ]
  },
  {
   "cell_type": "code",
   "execution_count": 1,
   "metadata": {},
   "outputs": [
    {
     "name": "stdout",
     "output_type": "stream",
     "text": [
      "El mumero de planetas del Sistema Solar es:  8\n"
     ]
    }
   ],
   "source": [
    "planets= ['Mercury','Venus','Earth','Mars','Jupiter','Saturn','Neptune','Uranus']\n",
    "number_planets= len(planets)\n",
    "print('El mumero de planetas del Sistema Solar es: ', number_planets)"
   ]
  },
  {
   "cell_type": "markdown",
   "metadata": {},
   "source": [
    "## Ejercicio 2"
   ]
  },
  {
   "cell_type": "code",
   "execution_count": 14,
   "metadata": {},
   "outputs": [
    {
     "name": "stdout",
     "output_type": "stream",
     "text": [
      "Hay ['Mercury', 'Venus', 'Earth'] antes que Mars\n",
      "Hay ['Jupiter', 'Saturn', 'Neptune'] despues que Mars\n"
     ]
    }
   ],
   "source": [
    "planets = ['Mercury', 'Venus', 'Earth', 'Mars', 'Jupiter', 'Saturn', 'Neptune']\n",
    "name_planet=input('Ingrese el nombre de un planeta con la primer letra en mayuscula: ')\n",
    "search_planet=planets.index(name_planet)\n",
    "print('Hay', planets[0:search_planet], 'antes que', name_planet)\n",
    "print('Hay', planets[search_planet+1:], 'despues que', name_planet)"
   ]
  }
 ],
 "metadata": {
  "interpreter": {
   "hash": "97680956a5ed230f7b0cd985100f5fb8a9eec34ebbdc2fea0a75271083153007"
  },
  "kernelspec": {
   "display_name": "Python 3.10.0 64-bit",
   "language": "python",
   "name": "python3"
  },
  "language_info": {
   "codemirror_mode": {
    "name": "ipython",
    "version": 3
   },
   "file_extension": ".py",
   "mimetype": "text/x-python",
   "name": "python",
   "nbconvert_exporter": "python",
   "pygments_lexer": "ipython3",
   "version": "3.10.0"
  },
  "orig_nbformat": 4
 },
 "nbformat": 4,
 "nbformat_minor": 2
}
