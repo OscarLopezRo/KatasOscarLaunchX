{
 "cells": [
  {
   "cell_type": "markdown",
   "metadata": {},
   "source": [
    "# Modulo 1. Kata 1\n",
    "Generación de la fecha en la pantalla.\n"
   ]
  },
  {
   "cell_type": "code",
   "execution_count": 1,
   "metadata": {},
   "outputs": [
    {
     "name": "stdout",
     "output_type": "stream",
     "text": [
      "Today's date is:  2022-02-08\n"
     ]
    }
   ],
   "source": [
    "from datetime import date\n",
    "date.today()\n",
    "print(\"Today's date is: \", str(date.today()))"
   ]
  },
  {
   "cell_type": "markdown",
   "metadata": {},
   "source": [
    "## Convertidor de Parsecs a Años Luz"
   ]
  },
  {
   "cell_type": "code",
   "execution_count": 11,
   "metadata": {},
   "outputs": [
    {
     "name": "stdout",
     "output_type": "stream",
     "text": [
      "5 Parsec, is 16.3078 Lightyears\n"
     ]
    }
   ],
   "source": [
    "parsec = input('Introduce Parsecs you want to convert to Lightyears:' )\n",
    "lightyears = float(3.26156) * float(parsec)\n",
    "print(str(parsec) + \" Parsec, is \" + str(lightyears) + \" Lightyears\")"
   ]
  }
 ],
 "metadata": {
  "interpreter": {
   "hash": "97680956a5ed230f7b0cd985100f5fb8a9eec34ebbdc2fea0a75271083153007"
  },
  "kernelspec": {
   "display_name": "Python 3.10.0 64-bit",
   "name": "python3"
  },
  "language_info": {
   "codemirror_mode": {
    "name": "ipython",
    "version": 3
   },
   "file_extension": ".py",
   "mimetype": "text/x-python",
   "name": "python",
   "nbconvert_exporter": "python",
   "pygments_lexer": "ipython3",
   "version": "3.10.0"
  },
  "orig_nbformat": 4
 },
 "nbformat": 4,
 "nbformat_minor": 2
}
