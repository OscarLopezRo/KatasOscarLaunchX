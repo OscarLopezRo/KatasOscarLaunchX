{
 "cells": [
  {
   "cell_type": "markdown",
   "metadata": {},
   "source": [
    "# Kata 5\n",
    "## Ejercicio 1"
   ]
  },
  {
   "cell_type": "code",
   "execution_count": 3,
   "metadata": {},
   "outputs": [
    {
     "name": "stdout",
     "output_type": "stream",
     "text": [
      "628949330 kilometros\n",
      "390577533.93 millas\n"
     ]
    }
   ],
   "source": [
    "tierra = int(149597870)\n",
    "jupiter = int(778547200)\n",
    "\n",
    "distancekm = jupiter - tierra\n",
    "distancem = (jupiter - tierra) * float(0.621)\n",
    "print(distancekm, 'kilometros')\n",
    "print(distancem, 'millas')"
   ]
  },
  {
   "cell_type": "markdown",
   "metadata": {},
   "source": [
    "## Ejercicio 2"
   ]
  },
  {
   "cell_type": "code",
   "execution_count": 19,
   "metadata": {},
   "outputs": [
    {
     "name": "stdout",
     "output_type": "stream",
     "text": [
      "4345500000 kilometros\n",
      "2698555500.0 millas\n"
     ]
    }
   ],
   "source": [
    "distierra= int(input('¿Cual es la distancia del Sol a la Tierra?: '))\n",
    "disneptuno= int(input('¿Cual es la distancia del Sol a Neptuno?: '))\n",
    "\n",
    "distancekm= abs(distierra - disneptuno)\n",
    "\n",
    "distancem= abs((distierra - disneptuno) * float(0.621))\n",
    "\n",
    "print(distancekm, 'kilometros')\n",
    "print(distancem, 'millas')"
   ]
  }
 ],
 "metadata": {
  "interpreter": {
   "hash": "97680956a5ed230f7b0cd985100f5fb8a9eec34ebbdc2fea0a75271083153007"
  },
  "kernelspec": {
   "display_name": "Python 3.10.0 64-bit",
   "language": "python",
   "name": "python3"
  },
  "language_info": {
   "codemirror_mode": {
    "name": "ipython",
    "version": 3
   },
   "file_extension": ".py",
   "mimetype": "text/x-python",
   "name": "python",
   "nbconvert_exporter": "python",
   "pygments_lexer": "ipython3",
   "version": "3.10.0"
  },
  "orig_nbformat": 4
 },
 "nbformat": 4,
 "nbformat_minor": 2
}
